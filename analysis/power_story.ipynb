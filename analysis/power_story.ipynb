{
 "cells": [
  {
   "cell_type": "markdown",
   "id": "18e28c1b",
   "metadata": {},
   "source": [
    "# Power Consumption Analysis"
   ]
  }
 ],
 "metadata": {
  "kernelspec": {
   "display_name": "hack_lyceum_fans",
   "language": "python",
   "name": "python3"
  },
  "language_info": {
   "codemirror_mode": {
    "name": "ipython",
    "version": 3
   },
   "file_extension": ".py",
   "mimetype": "text/x-python",
   "name": "python",
   "nbconvert_exporter": "python",
   "pygments_lexer": "ipython3",
   "version": "3.12.2"
  }
 },
 "nbformat": 4,
 "nbformat_minor": 5
}
