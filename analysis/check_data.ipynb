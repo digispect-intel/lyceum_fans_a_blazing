{
 "cells": [
  {
   "cell_type": "markdown",
   "id": "af0e6845",
   "metadata": {},
   "source": [
    "# Data Checks"
   ]
  },
  {
   "cell_type": "code",
   "execution_count": null,
   "id": "1b36f394",
   "metadata": {},
   "outputs": [],
   "source": [
    "import pandas as pd\n",
    "import matplotlib.pyplot as plt\n",
    "import numpy as np\n",
    "\n",
    "import pandas as pd\n",
    "import os\n",
    "\n",
    "# Your file paths\n",
    "files = [\n",
    "    \"../data/text_generation/gpt2/gpt2_cpu4-mem32_results.parquet\",\n",
    "    \"../data/text_generation/gpt2/gpt2_cpu8-mem16_results.parquet\", \n",
    "    \"../data/text_generation/gpt2/gpt2_cpu8-mem32_results.parquet\",\n",
    "    \"../data/text_generation/gpt2/gpt2_gpu40_results.parquet\",\n",
    "    \"../data/text_generation/gpt2/gpt2_gpu80_results.parquet\"\n",
    "]\n",
    "\n",
    "print(\"🔍 SAMPLING 10 ROWS FROM EACH DATAFRAME:\")\n",
    "print(\"=\" * 60)\n",
    "\n",
    "for i, file_path in enumerate(files, 1):\n",
    "    # Extract config name from filename\n",
    "    config_name = os.path.basename(file_path).replace('_results.parquet', '').replace('gpt2_', '')\n",
    "    \n",
    "    try:\n",
    "        # Load the dataframe\n",
    "        df = pd.read_parquet(file_path)\n",
    "        \n",
    "        print(f\"\\n📊 CONFIG {i}: {config_name.upper()}\")\n",
    "        print(f\"Total rows: {len(df)}\")\n",
    "        print(f\"Columns: {list(df.columns)}\")\n",
    "        \n",
    "        # Sample 10 rows (or all if less than 10)\n",
    "        sample_size = min(10, len(df))\n",
    "        sample_df = df.sample(n=sample_size, random_state=42)\n",
    "        \n",
    "        # Show key columns for analysis\n",
    "        key_columns = ['runtime_sec', 'tokens_per_second', 'total_estimated_power_watts', \n",
    "                      'gpu_power_watts_after', 'cpu_cores', 'memory_total_gb', 'batch_size']\n",
    "        \n",
    "        # Only show columns that exist\n",
    "        available_columns = [col for col in key_columns if col in df.columns]\n",
    "        \n",
    "        print(f\"\\nSample data ({sample_size} rows):\")\n",
    "        print(sample_df[available_columns].round(2))\n",
    "        \n",
    "        # Check for missing power data\n",
    "        if 'total_estimated_power_watts' in df.columns:\n",
    "            missing_power = df['total_estimated_power_watts'].isna().sum()\n",
    "            print(f\"Missing power data: {missing_power}/{len(df)} rows\")\n",
    "        \n",
    "        print(\"-\" * 50)\n",
    "        \n",
    "    except Exception as e:\n",
    "        print(f\"❌ Error loading {config_name}: {e}\")\n",
    "        print(\"-\" * 50)\n",
    "\n",
    "print(\"\\n✅ Sample inspection complete!\")\n"
   ]
  },
  {
   "cell_type": "code",
   "execution_count": null,
   "id": "3f6ee3a0",
   "metadata": {},
   "outputs": [],
   "source": []
  }
 ],
 "metadata": {
  "kernelspec": {
   "display_name": "hack_lyceum_fans",
   "language": "python",
   "name": "python3"
  },
  "language_info": {
   "codemirror_mode": {
    "name": "ipython",
    "version": 3
   },
   "file_extension": ".py",
   "mimetype": "text/x-python",
   "name": "python",
   "nbconvert_exporter": "python",
   "pygments_lexer": "ipython3",
   "version": "3.12.2"
  }
 },
 "nbformat": 4,
 "nbformat_minor": 5
}
